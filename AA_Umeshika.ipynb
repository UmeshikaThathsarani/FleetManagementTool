{
  "nbformat": 4,
  "nbformat_minor": 0,
  "metadata": {
    "colab": {
      "provenance": [],
      "authorship_tag": "ABX9TyMJUeMmyfJb0JldjUVH6Fas",
      "include_colab_link": true
    },
    "kernelspec": {
      "name": "python3",
      "display_name": "Python 3"
    },
    "language_info": {
      "name": "python"
    }
  },
  "cells": [
    {
      "cell_type": "markdown",
      "metadata": {
        "id": "view-in-github",
        "colab_type": "text"
      },
      "source": [
        "<a href=\"https://colab.research.google.com/github/UmeshikaThathsarani/FleetManagementTool/blob/main/AA_Umeshika.ipynb\" target=\"_parent\"><img src=\"https://colab.research.google.com/assets/colab-badge.svg\" alt=\"Open In Colab\"/></a>"
      ]
    },
    {
      "cell_type": "markdown",
      "source": [
        "**Importing Libraries**"
      ],
      "metadata": {
        "id": "UL-N7YK18xrp"
      }
    },
    {
      "cell_type": "code",
      "source": [
        "import numpy as np\n",
        "import pandas as pd\n",
        "import seaborn as sns\n",
        "import matplotlib.pyplot as plt"
      ],
      "metadata": {
        "id": "cwOIB6aN8xBR"
      },
      "execution_count": 7,
      "outputs": []
    },
    {
      "cell_type": "markdown",
      "source": [
        "**Reading the Dataset**"
      ],
      "metadata": {
        "id": "j7BC-ZXI86Fd"
      }
    },
    {
      "cell_type": "code",
      "source": [
        "df = pd.read_csv('AA_Dataset.csv')\n",
        "df.sample(5)"
      ],
      "metadata": {
        "colab": {
          "base_uri": "https://localhost:8080/",
          "height": 406
        },
        "id": "uTaUTcI686sA",
        "outputId": "6b63b313-3636-4adc-dcb7-6850f6dd79c2"
      },
      "execution_count": 8,
      "outputs": [
        {
          "output_type": "execute_result",
          "data": {
            "text/plain": [
              "      Year       Make                    Model                        Class  \\\n",
              "1559  2012  Chevrolet       Avalanche 1500 AWD  Sport Utility Vehicle - 4WD   \n",
              "1458  2012      Isuzu  Hombre Pickup 2WD (FFV)      Small Pickup Trucks 2WD   \n",
              "1306  2011       Ford  Transit Connect Van FFV  Special Purpose Vehicle 2WD   \n",
              "2751  2017       Audi                A3 e-tron                 Compact Cars   \n",
              "2025  2014        GMC           Sierra K15 4WD   Standard Pickup Trucks 4WD   \n",
              "\n",
              "                           Drive       Transmission  Engine Cylinders  \\\n",
              "1559  4-Wheel or All-Wheel Drive  Automatic 4-Speed                 8   \n",
              "1458            Rear-Wheel Drive     Manual 5-Speed                 4   \n",
              "1306           Front-Wheel Drive     Automatic (S6)                 4   \n",
              "2751           Front-Wheel Drive        Auto(AM-S6)                 4   \n",
              "2025               4-Wheel Drive  Automatic 6-Speed                 8   \n",
              "\n",
              "      Engine Index  Engine Displacement Turbocharger Supercharger  \\\n",
              "1559             0                  5.3           No           No   \n",
              "1458             0                  2.2           No           No   \n",
              "1306           255                  2.5           No           No   \n",
              "2751           101                  1.4          Yes           No   \n",
              "2025           491                  6.2           No           No   \n",
              "\n",
              "             Fuel Type  Combined MPG  City MPG  Highway MPG  Annual Fuel Cost  \n",
              "1559               E85            11         9           13              2650  \n",
              "1458               E85            16        14           18              2400  \n",
              "1306  Regular Gasoline            23        20           27              1850  \n",
              "2751       Electricity            83        81           86              1500  \n",
              "2025               E85            10         9           13              2650  "
            ],
            "text/html": [
              "\n",
              "  <div id=\"df-55e5054c-b4af-44b4-8b5f-e74583c54f0a\">\n",
              "    <div class=\"colab-df-container\">\n",
              "      <div>\n",
              "<style scoped>\n",
              "    .dataframe tbody tr th:only-of-type {\n",
              "        vertical-align: middle;\n",
              "    }\n",
              "\n",
              "    .dataframe tbody tr th {\n",
              "        vertical-align: top;\n",
              "    }\n",
              "\n",
              "    .dataframe thead th {\n",
              "        text-align: right;\n",
              "    }\n",
              "</style>\n",
              "<table border=\"1\" class=\"dataframe\">\n",
              "  <thead>\n",
              "    <tr style=\"text-align: right;\">\n",
              "      <th></th>\n",
              "      <th>Year</th>\n",
              "      <th>Make</th>\n",
              "      <th>Model</th>\n",
              "      <th>Class</th>\n",
              "      <th>Drive</th>\n",
              "      <th>Transmission</th>\n",
              "      <th>Engine Cylinders</th>\n",
              "      <th>Engine Index</th>\n",
              "      <th>Engine Displacement</th>\n",
              "      <th>Turbocharger</th>\n",
              "      <th>Supercharger</th>\n",
              "      <th>Fuel Type</th>\n",
              "      <th>Combined MPG</th>\n",
              "      <th>City MPG</th>\n",
              "      <th>Highway MPG</th>\n",
              "      <th>Annual Fuel Cost</th>\n",
              "    </tr>\n",
              "  </thead>\n",
              "  <tbody>\n",
              "    <tr>\n",
              "      <th>1559</th>\n",
              "      <td>2012</td>\n",
              "      <td>Chevrolet</td>\n",
              "      <td>Avalanche 1500 AWD</td>\n",
              "      <td>Sport Utility Vehicle - 4WD</td>\n",
              "      <td>4-Wheel or All-Wheel Drive</td>\n",
              "      <td>Automatic 4-Speed</td>\n",
              "      <td>8</td>\n",
              "      <td>0</td>\n",
              "      <td>5.3</td>\n",
              "      <td>No</td>\n",
              "      <td>No</td>\n",
              "      <td>E85</td>\n",
              "      <td>11</td>\n",
              "      <td>9</td>\n",
              "      <td>13</td>\n",
              "      <td>2650</td>\n",
              "    </tr>\n",
              "    <tr>\n",
              "      <th>1458</th>\n",
              "      <td>2012</td>\n",
              "      <td>Isuzu</td>\n",
              "      <td>Hombre Pickup 2WD (FFV)</td>\n",
              "      <td>Small Pickup Trucks 2WD</td>\n",
              "      <td>Rear-Wheel Drive</td>\n",
              "      <td>Manual 5-Speed</td>\n",
              "      <td>4</td>\n",
              "      <td>0</td>\n",
              "      <td>2.2</td>\n",
              "      <td>No</td>\n",
              "      <td>No</td>\n",
              "      <td>E85</td>\n",
              "      <td>16</td>\n",
              "      <td>14</td>\n",
              "      <td>18</td>\n",
              "      <td>2400</td>\n",
              "    </tr>\n",
              "    <tr>\n",
              "      <th>1306</th>\n",
              "      <td>2011</td>\n",
              "      <td>Ford</td>\n",
              "      <td>Transit Connect Van FFV</td>\n",
              "      <td>Special Purpose Vehicle 2WD</td>\n",
              "      <td>Front-Wheel Drive</td>\n",
              "      <td>Automatic (S6)</td>\n",
              "      <td>4</td>\n",
              "      <td>255</td>\n",
              "      <td>2.5</td>\n",
              "      <td>No</td>\n",
              "      <td>No</td>\n",
              "      <td>Regular Gasoline</td>\n",
              "      <td>23</td>\n",
              "      <td>20</td>\n",
              "      <td>27</td>\n",
              "      <td>1850</td>\n",
              "    </tr>\n",
              "    <tr>\n",
              "      <th>2751</th>\n",
              "      <td>2017</td>\n",
              "      <td>Audi</td>\n",
              "      <td>A3 e-tron</td>\n",
              "      <td>Compact Cars</td>\n",
              "      <td>Front-Wheel Drive</td>\n",
              "      <td>Auto(AM-S6)</td>\n",
              "      <td>4</td>\n",
              "      <td>101</td>\n",
              "      <td>1.4</td>\n",
              "      <td>Yes</td>\n",
              "      <td>No</td>\n",
              "      <td>Electricity</td>\n",
              "      <td>83</td>\n",
              "      <td>81</td>\n",
              "      <td>86</td>\n",
              "      <td>1500</td>\n",
              "    </tr>\n",
              "    <tr>\n",
              "      <th>2025</th>\n",
              "      <td>2014</td>\n",
              "      <td>GMC</td>\n",
              "      <td>Sierra K15 4WD</td>\n",
              "      <td>Standard Pickup Trucks 4WD</td>\n",
              "      <td>4-Wheel Drive</td>\n",
              "      <td>Automatic 6-Speed</td>\n",
              "      <td>8</td>\n",
              "      <td>491</td>\n",
              "      <td>6.2</td>\n",
              "      <td>No</td>\n",
              "      <td>No</td>\n",
              "      <td>E85</td>\n",
              "      <td>10</td>\n",
              "      <td>9</td>\n",
              "      <td>13</td>\n",
              "      <td>2650</td>\n",
              "    </tr>\n",
              "  </tbody>\n",
              "</table>\n",
              "</div>\n",
              "      <button class=\"colab-df-convert\" onclick=\"convertToInteractive('df-55e5054c-b4af-44b4-8b5f-e74583c54f0a')\"\n",
              "              title=\"Convert this dataframe to an interactive table.\"\n",
              "              style=\"display:none;\">\n",
              "        \n",
              "  <svg xmlns=\"http://www.w3.org/2000/svg\" height=\"24px\"viewBox=\"0 0 24 24\"\n",
              "       width=\"24px\">\n",
              "    <path d=\"M0 0h24v24H0V0z\" fill=\"none\"/>\n",
              "    <path d=\"M18.56 5.44l.94 2.06.94-2.06 2.06-.94-2.06-.94-.94-2.06-.94 2.06-2.06.94zm-11 1L8.5 8.5l.94-2.06 2.06-.94-2.06-.94L8.5 2.5l-.94 2.06-2.06.94zm10 10l.94 2.06.94-2.06 2.06-.94-2.06-.94-.94-2.06-.94 2.06-2.06.94z\"/><path d=\"M17.41 7.96l-1.37-1.37c-.4-.4-.92-.59-1.43-.59-.52 0-1.04.2-1.43.59L10.3 9.45l-7.72 7.72c-.78.78-.78 2.05 0 2.83L4 21.41c.39.39.9.59 1.41.59.51 0 1.02-.2 1.41-.59l7.78-7.78 2.81-2.81c.8-.78.8-2.07 0-2.86zM5.41 20L4 18.59l7.72-7.72 1.47 1.35L5.41 20z\"/>\n",
              "  </svg>\n",
              "      </button>\n",
              "      \n",
              "  <style>\n",
              "    .colab-df-container {\n",
              "      display:flex;\n",
              "      flex-wrap:wrap;\n",
              "      gap: 12px;\n",
              "    }\n",
              "\n",
              "    .colab-df-convert {\n",
              "      background-color: #E8F0FE;\n",
              "      border: none;\n",
              "      border-radius: 50%;\n",
              "      cursor: pointer;\n",
              "      display: none;\n",
              "      fill: #1967D2;\n",
              "      height: 32px;\n",
              "      padding: 0 0 0 0;\n",
              "      width: 32px;\n",
              "    }\n",
              "\n",
              "    .colab-df-convert:hover {\n",
              "      background-color: #E2EBFA;\n",
              "      box-shadow: 0px 1px 2px rgba(60, 64, 67, 0.3), 0px 1px 3px 1px rgba(60, 64, 67, 0.15);\n",
              "      fill: #174EA6;\n",
              "    }\n",
              "\n",
              "    [theme=dark] .colab-df-convert {\n",
              "      background-color: #3B4455;\n",
              "      fill: #D2E3FC;\n",
              "    }\n",
              "\n",
              "    [theme=dark] .colab-df-convert:hover {\n",
              "      background-color: #434B5C;\n",
              "      box-shadow: 0px 1px 3px 1px rgba(0, 0, 0, 0.15);\n",
              "      filter: drop-shadow(0px 1px 2px rgba(0, 0, 0, 0.3));\n",
              "      fill: #FFFFFF;\n",
              "    }\n",
              "  </style>\n",
              "\n",
              "      <script>\n",
              "        const buttonEl =\n",
              "          document.querySelector('#df-55e5054c-b4af-44b4-8b5f-e74583c54f0a button.colab-df-convert');\n",
              "        buttonEl.style.display =\n",
              "          google.colab.kernel.accessAllowed ? 'block' : 'none';\n",
              "\n",
              "        async function convertToInteractive(key) {\n",
              "          const element = document.querySelector('#df-55e5054c-b4af-44b4-8b5f-e74583c54f0a');\n",
              "          const dataTable =\n",
              "            await google.colab.kernel.invokeFunction('convertToInteractive',\n",
              "                                                     [key], {});\n",
              "          if (!dataTable) return;\n",
              "\n",
              "          const docLinkHtml = 'Like what you see? Visit the ' +\n",
              "            '<a target=\"_blank\" href=https://colab.research.google.com/notebooks/data_table.ipynb>data table notebook</a>'\n",
              "            + ' to learn more about interactive tables.';\n",
              "          element.innerHTML = '';\n",
              "          dataTable['output_type'] = 'display_data';\n",
              "          await google.colab.output.renderOutput(dataTable, element);\n",
              "          const docLink = document.createElement('div');\n",
              "          docLink.innerHTML = docLinkHtml;\n",
              "          element.appendChild(docLink);\n",
              "        }\n",
              "      </script>\n",
              "    </div>\n",
              "  </div>\n",
              "  "
            ]
          },
          "metadata": {},
          "execution_count": 8
        }
      ]
    },
    {
      "cell_type": "markdown",
      "source": [
        "**Outliers Removal**"
      ],
      "metadata": {
        "id": "Qubk_wWk8kO0"
      }
    },
    {
      "cell_type": "code",
      "execution_count": 34,
      "metadata": {
        "colab": {
          "base_uri": "https://localhost:8080/",
          "height": 351
        },
        "id": "R4_krL6bPhGr",
        "outputId": "1304db53-1a7c-48e6-abf5-7aa44ddc6587"
      },
      "outputs": [
        {
          "output_type": "stream",
          "name": "stderr",
          "text": [
            "/usr/local/lib/python3.8/dist-packages/seaborn/distributions.py:2619: FutureWarning: `distplot` is a deprecated function and will be removed in a future version. Please adapt your code to use either `displot` (a figure-level function with similar flexibility) or `histplot` (an axes-level function for histograms).\n",
            "  warnings.warn(msg, FutureWarning)\n"
          ]
        },
        {
          "output_type": "execute_result",
          "data": {
            "text/plain": [
              "<matplotlib.axes._subplots.AxesSubplot at 0x7f72428eab20>"
            ]
          },
          "metadata": {},
          "execution_count": 34
        },
        {
          "output_type": "display_data",
          "data": {
            "text/plain": [
              "<Figure size 432x288 with 1 Axes>"
            ],
            "image/png": "[encoded data removed]"
          },
          "metadata": {
            "needs_background": "light"
          }
        }
      ],
      "source": [
        "sns.distplot(df['Highway MPG'])"
      ]
    },
    {
      "cell_type": "code",
      "source": [
        "sns.boxplot(df['Highway MPG'])"
      ],
      "metadata": {
        "colab": {
          "base_uri": "https://localhost:8080/",
          "height": 351
        },
        "id": "Uujm1bpN9vph",
        "outputId": "e0705e7d-12fa-444b-83be-9dd39d723b81"
      },
      "execution_count": 33,
      "outputs": [
        {
          "output_type": "stream",
          "name": "stderr",
          "text": [
            "/usr/local/lib/python3.8/dist-packages/seaborn/_decorators.py:36: FutureWarning: Pass the following variable as a keyword arg: x. From version 0.12, the only valid positional argument will be `data`, and passing other arguments without an explicit keyword will result in an error or misinterpretation.\n",
            "  warnings.warn(\n"
          ]
        },
        {
          "output_type": "execute_result",
          "data": {
            "text/plain": [
              "<matplotlib.axes._subplots.AxesSubplot at 0x7f72424b2130>"
            ]
          },
          "metadata": {},
          "execution_count": 33
        },
        {
          "output_type": "display_data",
          "data": {
            "text/plain": [
              "<Figure size 432x288 with 1 Axes>"
            ],
            "image/png": "[encoded data removed]"
          },
          "metadata": {
            "needs_background": "light"
          }
        }
      ]
    },
    {
      "cell_type": "code",
      "source": [
        "upper_limit = df['Highway MPG'].quantile(0.99)\n",
        "lower_limit = df['Highway MPG'].quantile(0.01)"
      ],
      "metadata": {
        "id": "V6CPMYlZ_uiw"
      },
      "execution_count": 35,
      "outputs": []
    },
    {
      "cell_type": "code",
      "source": [
        "new_df = df[(df['Highway MPG'] <= upper_limit) & (df['Highway MPG'] >= lower_limit)]"
      ],
      "metadata": {
        "id": "KgmtEtvB_7gc"
      },
      "execution_count": 36,
      "outputs": []
    },
    {
      "cell_type": "code",
      "source": [
        "sns.distplot(new_df['Highway MPG'])"
      ],
      "metadata": {
        "id": "HC4MLReUAOF0"
      },
      "execution_count": null,
      "outputs": []
    },
    {
      "cell_type": "code",
      "source": [
        "sns.boxplot(new_df['Highway MPG'])"
      ],
      "metadata": {
        "id": "gviDuL0-ATaB"
      },
      "execution_count": null,
      "outputs": []
    }
  ]
}